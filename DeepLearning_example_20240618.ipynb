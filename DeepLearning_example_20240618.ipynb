{
  "nbformat": 4,
  "nbformat_minor": 0,
  "metadata": {
    "colab": {
      "provenance": [],
      "authorship_tag": "ABX9TyPLzG0JuV8QXTYRUzz4hHNa",
      "include_colab_link": true
    },
    "kernelspec": {
      "name": "python3",
      "display_name": "Python 3"
    },
    "language_info": {
      "name": "python"
    }
  },
  "cells": [
    {
      "cell_type": "markdown",
      "metadata": {
        "id": "view-in-github",
        "colab_type": "text"
      },
      "source": [
        "<a href=\"https://colab.research.google.com/github/szh141/mlproject/blob/main/DeepLearning_example_20240618.ipynb\" target=\"_parent\"><img src=\"https://colab.research.google.com/assets/colab-badge.svg\" alt=\"Open In Colab\"/></a>"
      ]
    },
    {
      "cell_type": "markdown",
      "source": [
        "https://blog.devgenius.io/python-getting-started-with-deep-learning-3-1b2eff3da68c"
      ],
      "metadata": {
        "id": "ytHa0DmcOVyu"
      }
    },
    {
      "cell_type": "code",
      "execution_count": 8,
      "metadata": {
        "id": "bScug4jMOO1C"
      },
      "outputs": [],
      "source": [
        "from sklearn import datasets\n",
        "from sklearn.model_selection import train_test_split\n",
        "\n",
        "# Load the Iris dataset\n",
        "iris = datasets.load_iris()\n",
        "X = iris.data\n",
        "y = iris.target\n",
        "\n",
        "# Split the data into training and testing sets\n",
        "X_train, X_test, y_train, y_test = train_test_split(X, y, test_size=0.2, random_state=42)"
      ]
    },
    {
      "cell_type": "code",
      "source": [
        "from tensorflow import keras\n",
        "from keras.layers import Dense\n",
        "\n",
        "# Define the model\n",
        "model = keras.Sequential()\n",
        "model.add(Dense(8, activation='relu', input_shape=(4,)))\n",
        "model.add(Dense(3, activation='softmax'))"
      ],
      "metadata": {
        "id": "LfQJI5K6PBG-"
      },
      "execution_count": 11,
      "outputs": []
    },
    {
      "cell_type": "code",
      "source": [
        "from keras.optimizers import Adam\n",
        "# Compile the model\n",
        "model.compile(optimizer=Adam(learning_rate=0.001), loss='sparse_categorical_crossentropy', metrics=['accuracy'])\n",
        "\n",
        "model.fit(X_train, y_train, epochs=100, batch_size=32, validation_data=(X_test, y_test))\n"
      ],
      "metadata": {
        "colab": {
          "base_uri": "https://localhost:8080/"
        },
        "id": "vVhP-RTQQKzr",
        "outputId": "b6e36587-c286-4f4a-d235-53b5ff576ae9"
      },
      "execution_count": 15,
      "outputs": [
        {
          "output_type": "stream",
          "name": "stdout",
          "text": [
            "Epoch 1/100\n",
            "4/4 [==============================] - 1s 81ms/step - loss: 1.4445 - accuracy: 0.3417 - val_loss: 1.5451 - val_accuracy: 0.3000\n",
            "Epoch 2/100\n",
            "4/4 [==============================] - 0s 15ms/step - loss: 1.3723 - accuracy: 0.3417 - val_loss: 1.4646 - val_accuracy: 0.3000\n",
            "Epoch 3/100\n",
            "4/4 [==============================] - 0s 11ms/step - loss: 1.3056 - accuracy: 0.3417 - val_loss: 1.3888 - val_accuracy: 0.3000\n",
            "Epoch 4/100\n",
            "4/4 [==============================] - 0s 19ms/step - loss: 1.2414 - accuracy: 0.3417 - val_loss: 1.3195 - val_accuracy: 0.3000\n",
            "Epoch 5/100\n",
            "4/4 [==============================] - 0s 12ms/step - loss: 1.1848 - accuracy: 0.3583 - val_loss: 1.2562 - val_accuracy: 0.3000\n",
            "Epoch 6/100\n",
            "4/4 [==============================] - 0s 11ms/step - loss: 1.1332 - accuracy: 0.4500 - val_loss: 1.1998 - val_accuracy: 0.3667\n",
            "Epoch 7/100\n",
            "4/4 [==============================] - 0s 11ms/step - loss: 1.0888 - accuracy: 0.5917 - val_loss: 1.1501 - val_accuracy: 0.6333\n",
            "Epoch 8/100\n",
            "4/4 [==============================] - 0s 13ms/step - loss: 1.0523 - accuracy: 0.6667 - val_loss: 1.1064 - val_accuracy: 0.6333\n",
            "Epoch 9/100\n",
            "4/4 [==============================] - 0s 12ms/step - loss: 1.0224 - accuracy: 0.6750 - val_loss: 1.0684 - val_accuracy: 0.6333\n",
            "Epoch 10/100\n",
            "4/4 [==============================] - 0s 11ms/step - loss: 0.9932 - accuracy: 0.6750 - val_loss: 1.0376 - val_accuracy: 0.6333\n",
            "Epoch 11/100\n",
            "4/4 [==============================] - 0s 12ms/step - loss: 0.9725 - accuracy: 0.6750 - val_loss: 1.0115 - val_accuracy: 0.6333\n",
            "Epoch 12/100\n",
            "4/4 [==============================] - 0s 12ms/step - loss: 0.9546 - accuracy: 0.6750 - val_loss: 0.9899 - val_accuracy: 0.6333\n",
            "Epoch 13/100\n",
            "4/4 [==============================] - 0s 12ms/step - loss: 0.9405 - accuracy: 0.6750 - val_loss: 0.9721 - val_accuracy: 0.6333\n",
            "Epoch 14/100\n",
            "4/4 [==============================] - 0s 12ms/step - loss: 0.9299 - accuracy: 0.6750 - val_loss: 0.9574 - val_accuracy: 0.6333\n",
            "Epoch 15/100\n",
            "4/4 [==============================] - 0s 11ms/step - loss: 0.9208 - accuracy: 0.6750 - val_loss: 0.9453 - val_accuracy: 0.6333\n",
            "Epoch 16/100\n",
            "4/4 [==============================] - 0s 15ms/step - loss: 0.9125 - accuracy: 0.6750 - val_loss: 0.9354 - val_accuracy: 0.6333\n",
            "Epoch 17/100\n",
            "4/4 [==============================] - 0s 12ms/step - loss: 0.9080 - accuracy: 0.6667 - val_loss: 0.9260 - val_accuracy: 0.6333\n",
            "Epoch 18/100\n",
            "4/4 [==============================] - 0s 13ms/step - loss: 0.9021 - accuracy: 0.6583 - val_loss: 0.9184 - val_accuracy: 0.6333\n",
            "Epoch 19/100\n",
            "4/4 [==============================] - 0s 14ms/step - loss: 0.8977 - accuracy: 0.6333 - val_loss: 0.9117 - val_accuracy: 0.6333\n",
            "Epoch 20/100\n",
            "4/4 [==============================] - 0s 14ms/step - loss: 0.8939 - accuracy: 0.5500 - val_loss: 0.9058 - val_accuracy: 0.5000\n",
            "Epoch 21/100\n",
            "4/4 [==============================] - 0s 22ms/step - loss: 0.8898 - accuracy: 0.5250 - val_loss: 0.9007 - val_accuracy: 0.5000\n",
            "Epoch 22/100\n",
            "4/4 [==============================] - 0s 20ms/step - loss: 0.8863 - accuracy: 0.5250 - val_loss: 0.8959 - val_accuracy: 0.4667\n",
            "Epoch 23/100\n",
            "4/4 [==============================] - 0s 13ms/step - loss: 0.8830 - accuracy: 0.4750 - val_loss: 0.8914 - val_accuracy: 0.4333\n",
            "Epoch 24/100\n",
            "4/4 [==============================] - 0s 21ms/step - loss: 0.8794 - accuracy: 0.4583 - val_loss: 0.8871 - val_accuracy: 0.4333\n",
            "Epoch 25/100\n",
            "4/4 [==============================] - 0s 12ms/step - loss: 0.8758 - accuracy: 0.4500 - val_loss: 0.8833 - val_accuracy: 0.4333\n",
            "Epoch 26/100\n",
            "4/4 [==============================] - 0s 11ms/step - loss: 0.8722 - accuracy: 0.4417 - val_loss: 0.8796 - val_accuracy: 0.4333\n",
            "Epoch 27/100\n",
            "4/4 [==============================] - 0s 13ms/step - loss: 0.8689 - accuracy: 0.4417 - val_loss: 0.8762 - val_accuracy: 0.4333\n",
            "Epoch 28/100\n",
            "4/4 [==============================] - 0s 11ms/step - loss: 0.8651 - accuracy: 0.4417 - val_loss: 0.8724 - val_accuracy: 0.4333\n",
            "Epoch 29/100\n",
            "4/4 [==============================] - 0s 12ms/step - loss: 0.8616 - accuracy: 0.4333 - val_loss: 0.8688 - val_accuracy: 0.4333\n",
            "Epoch 30/100\n",
            "4/4 [==============================] - 0s 11ms/step - loss: 0.8580 - accuracy: 0.4333 - val_loss: 0.8650 - val_accuracy: 0.4333\n",
            "Epoch 31/100\n",
            "4/4 [==============================] - 0s 13ms/step - loss: 0.8543 - accuracy: 0.4333 - val_loss: 0.8614 - val_accuracy: 0.4333\n",
            "Epoch 32/100\n",
            "4/4 [==============================] - 0s 12ms/step - loss: 0.8506 - accuracy: 0.4333 - val_loss: 0.8577 - val_accuracy: 0.4333\n",
            "Epoch 33/100\n",
            "4/4 [==============================] - 0s 12ms/step - loss: 0.8471 - accuracy: 0.4250 - val_loss: 0.8538 - val_accuracy: 0.4333\n",
            "Epoch 34/100\n",
            "4/4 [==============================] - 0s 11ms/step - loss: 0.8432 - accuracy: 0.4333 - val_loss: 0.8503 - val_accuracy: 0.4333\n",
            "Epoch 35/100\n",
            "4/4 [==============================] - 0s 12ms/step - loss: 0.8395 - accuracy: 0.4333 - val_loss: 0.8465 - val_accuracy: 0.4333\n",
            "Epoch 36/100\n",
            "4/4 [==============================] - 0s 18ms/step - loss: 0.8358 - accuracy: 0.4333 - val_loss: 0.8426 - val_accuracy: 0.4333\n",
            "Epoch 37/100\n",
            "4/4 [==============================] - 0s 20ms/step - loss: 0.8323 - accuracy: 0.4333 - val_loss: 0.8392 - val_accuracy: 0.4333\n",
            "Epoch 38/100\n",
            "4/4 [==============================] - 0s 14ms/step - loss: 0.8282 - accuracy: 0.4333 - val_loss: 0.8351 - val_accuracy: 0.4333\n",
            "Epoch 39/100\n",
            "4/4 [==============================] - 0s 18ms/step - loss: 0.8244 - accuracy: 0.4333 - val_loss: 0.8312 - val_accuracy: 0.4333\n",
            "Epoch 40/100\n",
            "4/4 [==============================] - 0s 20ms/step - loss: 0.8208 - accuracy: 0.4333 - val_loss: 0.8274 - val_accuracy: 0.4333\n",
            "Epoch 41/100\n",
            "4/4 [==============================] - 0s 14ms/step - loss: 0.8171 - accuracy: 0.4083 - val_loss: 0.8229 - val_accuracy: 0.4333\n",
            "Epoch 42/100\n",
            "4/4 [==============================] - 0s 14ms/step - loss: 0.8130 - accuracy: 0.3917 - val_loss: 0.8191 - val_accuracy: 0.4333\n",
            "Epoch 43/100\n",
            "4/4 [==============================] - 0s 12ms/step - loss: 0.8094 - accuracy: 0.3917 - val_loss: 0.8151 - val_accuracy: 0.4333\n",
            "Epoch 44/100\n",
            "4/4 [==============================] - 0s 11ms/step - loss: 0.8056 - accuracy: 0.4000 - val_loss: 0.8111 - val_accuracy: 0.4333\n",
            "Epoch 45/100\n",
            "4/4 [==============================] - 0s 11ms/step - loss: 0.8016 - accuracy: 0.4000 - val_loss: 0.8073 - val_accuracy: 0.4333\n",
            "Epoch 46/100\n",
            "4/4 [==============================] - 0s 12ms/step - loss: 0.7978 - accuracy: 0.4000 - val_loss: 0.8036 - val_accuracy: 0.4333\n",
            "Epoch 47/100\n",
            "4/4 [==============================] - 0s 11ms/step - loss: 0.7942 - accuracy: 0.4000 - val_loss: 0.7997 - val_accuracy: 0.4333\n",
            "Epoch 48/100\n",
            "4/4 [==============================] - 0s 12ms/step - loss: 0.7903 - accuracy: 0.4000 - val_loss: 0.7956 - val_accuracy: 0.4333\n",
            "Epoch 49/100\n",
            "4/4 [==============================] - 0s 13ms/step - loss: 0.7864 - accuracy: 0.4000 - val_loss: 0.7918 - val_accuracy: 0.4333\n",
            "Epoch 50/100\n",
            "4/4 [==============================] - 0s 13ms/step - loss: 0.7827 - accuracy: 0.4000 - val_loss: 0.7883 - val_accuracy: 0.4333\n",
            "Epoch 51/100\n",
            "4/4 [==============================] - 0s 12ms/step - loss: 0.7789 - accuracy: 0.4083 - val_loss: 0.7847 - val_accuracy: 0.4333\n",
            "Epoch 52/100\n",
            "4/4 [==============================] - 0s 11ms/step - loss: 0.7752 - accuracy: 0.4167 - val_loss: 0.7808 - val_accuracy: 0.4333\n",
            "Epoch 53/100\n",
            "4/4 [==============================] - 0s 13ms/step - loss: 0.7718 - accuracy: 0.4167 - val_loss: 0.7770 - val_accuracy: 0.4333\n",
            "Epoch 54/100\n",
            "4/4 [==============================] - 0s 14ms/step - loss: 0.7679 - accuracy: 0.4083 - val_loss: 0.7726 - val_accuracy: 0.4333\n",
            "Epoch 55/100\n",
            "4/4 [==============================] - 0s 14ms/step - loss: 0.7639 - accuracy: 0.4083 - val_loss: 0.7686 - val_accuracy: 0.3667\n",
            "Epoch 56/100\n",
            "4/4 [==============================] - 0s 22ms/step - loss: 0.7604 - accuracy: 0.4167 - val_loss: 0.7645 - val_accuracy: 0.3667\n",
            "Epoch 57/100\n",
            "4/4 [==============================] - 0s 21ms/step - loss: 0.7566 - accuracy: 0.4167 - val_loss: 0.7608 - val_accuracy: 0.3667\n",
            "Epoch 58/100\n",
            "4/4 [==============================] - 0s 14ms/step - loss: 0.7534 - accuracy: 0.4167 - val_loss: 0.7576 - val_accuracy: 0.3667\n",
            "Epoch 59/100\n",
            "4/4 [==============================] - 0s 21ms/step - loss: 0.7494 - accuracy: 0.4167 - val_loss: 0.7535 - val_accuracy: 0.3667\n",
            "Epoch 60/100\n",
            "4/4 [==============================] - 0s 20ms/step - loss: 0.7460 - accuracy: 0.4250 - val_loss: 0.7498 - val_accuracy: 0.4000\n",
            "Epoch 61/100\n",
            "4/4 [==============================] - 0s 12ms/step - loss: 0.7424 - accuracy: 0.4417 - val_loss: 0.7456 - val_accuracy: 0.4000\n",
            "Epoch 62/100\n",
            "4/4 [==============================] - 0s 12ms/step - loss: 0.7386 - accuracy: 0.4583 - val_loss: 0.7421 - val_accuracy: 0.4000\n",
            "Epoch 63/100\n",
            "4/4 [==============================] - 0s 12ms/step - loss: 0.7352 - accuracy: 0.4583 - val_loss: 0.7385 - val_accuracy: 0.4000\n",
            "Epoch 64/100\n",
            "4/4 [==============================] - 0s 12ms/step - loss: 0.7316 - accuracy: 0.4583 - val_loss: 0.7351 - val_accuracy: 0.4000\n",
            "Epoch 65/100\n",
            "4/4 [==============================] - 0s 11ms/step - loss: 0.7282 - accuracy: 0.4583 - val_loss: 0.7316 - val_accuracy: 0.4000\n",
            "Epoch 66/100\n",
            "4/4 [==============================] - 0s 12ms/step - loss: 0.7247 - accuracy: 0.4583 - val_loss: 0.7280 - val_accuracy: 0.4000\n",
            "Epoch 67/100\n",
            "4/4 [==============================] - 0s 11ms/step - loss: 0.7212 - accuracy: 0.4583 - val_loss: 0.7243 - val_accuracy: 0.4333\n",
            "Epoch 68/100\n",
            "4/4 [==============================] - 0s 12ms/step - loss: 0.7178 - accuracy: 0.4750 - val_loss: 0.7205 - val_accuracy: 0.4333\n",
            "Epoch 69/100\n",
            "4/4 [==============================] - 0s 12ms/step - loss: 0.7150 - accuracy: 0.4833 - val_loss: 0.7164 - val_accuracy: 0.4333\n",
            "Epoch 70/100\n",
            "4/4 [==============================] - 0s 12ms/step - loss: 0.7110 - accuracy: 0.4917 - val_loss: 0.7134 - val_accuracy: 0.4333\n",
            "Epoch 71/100\n",
            "4/4 [==============================] - 0s 12ms/step - loss: 0.7079 - accuracy: 0.4917 - val_loss: 0.7103 - val_accuracy: 0.4333\n",
            "Epoch 72/100\n",
            "4/4 [==============================] - 0s 12ms/step - loss: 0.7044 - accuracy: 0.4833 - val_loss: 0.7068 - val_accuracy: 0.4333\n",
            "Epoch 73/100\n",
            "4/4 [==============================] - 0s 13ms/step - loss: 0.7013 - accuracy: 0.4917 - val_loss: 0.7030 - val_accuracy: 0.4333\n",
            "Epoch 74/100\n",
            "4/4 [==============================] - 0s 15ms/step - loss: 0.6982 - accuracy: 0.4917 - val_loss: 0.7002 - val_accuracy: 0.4333\n",
            "Epoch 75/100\n",
            "4/4 [==============================] - 0s 22ms/step - loss: 0.6946 - accuracy: 0.4917 - val_loss: 0.6966 - val_accuracy: 0.4333\n",
            "Epoch 76/100\n",
            "4/4 [==============================] - 0s 21ms/step - loss: 0.6914 - accuracy: 0.5000 - val_loss: 0.6933 - val_accuracy: 0.4333\n",
            "Epoch 77/100\n",
            "4/4 [==============================] - 0s 21ms/step - loss: 0.6883 - accuracy: 0.4917 - val_loss: 0.6897 - val_accuracy: 0.4333\n",
            "Epoch 78/100\n",
            "4/4 [==============================] - 0s 20ms/step - loss: 0.6851 - accuracy: 0.5000 - val_loss: 0.6862 - val_accuracy: 0.4667\n",
            "Epoch 79/100\n",
            "4/4 [==============================] - 0s 13ms/step - loss: 0.6822 - accuracy: 0.5083 - val_loss: 0.6828 - val_accuracy: 0.4667\n",
            "Epoch 80/100\n",
            "4/4 [==============================] - 0s 12ms/step - loss: 0.6789 - accuracy: 0.5083 - val_loss: 0.6795 - val_accuracy: 0.4667\n",
            "Epoch 81/100\n",
            "4/4 [==============================] - 0s 11ms/step - loss: 0.6760 - accuracy: 0.5167 - val_loss: 0.6764 - val_accuracy: 0.4667\n",
            "Epoch 82/100\n",
            "4/4 [==============================] - 0s 16ms/step - loss: 0.6729 - accuracy: 0.5250 - val_loss: 0.6736 - val_accuracy: 0.4667\n",
            "Epoch 83/100\n",
            "4/4 [==============================] - 0s 18ms/step - loss: 0.6698 - accuracy: 0.5167 - val_loss: 0.6707 - val_accuracy: 0.4667\n",
            "Epoch 84/100\n",
            "4/4 [==============================] - 0s 13ms/step - loss: 0.6671 - accuracy: 0.5083 - val_loss: 0.6676 - val_accuracy: 0.4667\n",
            "Epoch 85/100\n",
            "4/4 [==============================] - 0s 14ms/step - loss: 0.6643 - accuracy: 0.5167 - val_loss: 0.6656 - val_accuracy: 0.4333\n",
            "Epoch 86/100\n",
            "4/4 [==============================] - 0s 13ms/step - loss: 0.6614 - accuracy: 0.5083 - val_loss: 0.6622 - val_accuracy: 0.4667\n",
            "Epoch 87/100\n",
            "4/4 [==============================] - 0s 12ms/step - loss: 0.6583 - accuracy: 0.5167 - val_loss: 0.6596 - val_accuracy: 0.4333\n",
            "Epoch 88/100\n",
            "4/4 [==============================] - 0s 12ms/step - loss: 0.6556 - accuracy: 0.5083 - val_loss: 0.6573 - val_accuracy: 0.4333\n",
            "Epoch 89/100\n",
            "4/4 [==============================] - 0s 13ms/step - loss: 0.6529 - accuracy: 0.5167 - val_loss: 0.6536 - val_accuracy: 0.4667\n",
            "Epoch 90/100\n",
            "4/4 [==============================] - 0s 12ms/step - loss: 0.6499 - accuracy: 0.5250 - val_loss: 0.6508 - val_accuracy: 0.4667\n",
            "Epoch 91/100\n",
            "4/4 [==============================] - 0s 13ms/step - loss: 0.6470 - accuracy: 0.5250 - val_loss: 0.6474 - val_accuracy: 0.4667\n",
            "Epoch 92/100\n",
            "4/4 [==============================] - 0s 20ms/step - loss: 0.6447 - accuracy: 0.5250 - val_loss: 0.6437 - val_accuracy: 0.5000\n",
            "Epoch 93/100\n",
            "4/4 [==============================] - 0s 22ms/step - loss: 0.6419 - accuracy: 0.5250 - val_loss: 0.6410 - val_accuracy: 0.5000\n",
            "Epoch 94/100\n",
            "4/4 [==============================] - 0s 14ms/step - loss: 0.6390 - accuracy: 0.5417 - val_loss: 0.6382 - val_accuracy: 0.5000\n",
            "Epoch 95/100\n",
            "4/4 [==============================] - 0s 20ms/step - loss: 0.6363 - accuracy: 0.5417 - val_loss: 0.6358 - val_accuracy: 0.5000\n",
            "Epoch 96/100\n",
            "4/4 [==============================] - 0s 20ms/step - loss: 0.6339 - accuracy: 0.5417 - val_loss: 0.6334 - val_accuracy: 0.5000\n",
            "Epoch 97/100\n",
            "4/4 [==============================] - 0s 12ms/step - loss: 0.6312 - accuracy: 0.5500 - val_loss: 0.6305 - val_accuracy: 0.5333\n",
            "Epoch 98/100\n",
            "4/4 [==============================] - 0s 11ms/step - loss: 0.6288 - accuracy: 0.5417 - val_loss: 0.6275 - val_accuracy: 0.5667\n",
            "Epoch 99/100\n",
            "4/4 [==============================] - 0s 14ms/step - loss: 0.6262 - accuracy: 0.5417 - val_loss: 0.6249 - val_accuracy: 0.6000\n",
            "Epoch 100/100\n",
            "4/4 [==============================] - 0s 11ms/step - loss: 0.6238 - accuracy: 0.5417 - val_loss: 0.6225 - val_accuracy: 0.6000\n"
          ]
        },
        {
          "output_type": "execute_result",
          "data": {
            "text/plain": [
              "<keras.src.callbacks.History at 0x7d6eb75aa740>"
            ]
          },
          "metadata": {},
          "execution_count": 15
        }
      ]
    },
    {
      "cell_type": "code",
      "source": [
        "# Evaluate the model\n",
        "loss, accuracy = model.evaluate(X_test, y_test)\n",
        "print(f\"Test loss: {loss:.4f}\")\n",
        "print(f\"Test accuracy: {accuracy:.4f}\")"
      ],
      "metadata": {
        "colab": {
          "base_uri": "https://localhost:8080/"
        },
        "id": "vlQu4WEfQhci",
        "outputId": "3af33533-df0a-4b38-cde0-a3560921b5a3"
      },
      "execution_count": 16,
      "outputs": [
        {
          "output_type": "stream",
          "name": "stdout",
          "text": [
            "1/1 [==============================] - 0s 44ms/step - loss: 0.6225 - accuracy: 0.6000\n",
            "Test loss: 0.6225\n",
            "Test accuracy: 0.6000\n"
          ]
        }
      ]
    }
  ]
}