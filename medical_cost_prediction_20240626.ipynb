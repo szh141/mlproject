{
  "nbformat": 4,
  "nbformat_minor": 0,
  "metadata": {
    "colab": {
      "provenance": [],
      "mount_file_id": "1wHOw5JOa1liD0WwjHmtJCHViA5poioca",
      "authorship_tag": "ABX9TyPRs4kNsdnqADbnf30oKT3a",
      "include_colab_link": true
    },
    "kernelspec": {
      "name": "python3",
      "display_name": "Python 3"
    },
    "language_info": {
      "name": "python"
    }
  },
  "cells": [
    {
      "cell_type": "markdown",
      "metadata": {
        "id": "view-in-github",
        "colab_type": "text"
      },
      "source": [
        "<a href=\"https://colab.research.google.com/github/szh141/mlproject/blob/main/medical_cost_prediction_20240626.ipynb\" target=\"_parent\"><img src=\"https://colab.research.google.com/assets/colab-badge.svg\" alt=\"Open In Colab\"/></a>"
      ]
    },
    {
      "cell_type": "markdown",
      "source": [
        "https://medium.com/@iabbasali/medical-cost-prediction-using-machine-learning-63aca6bf2ad5"
      ],
      "metadata": {
        "id": "lZg97obqL1FC"
      }
    },
    {
      "cell_type": "code",
      "execution_count": 2,
      "metadata": {
        "colab": {
          "base_uri": "https://localhost:8080/"
        },
        "id": "OuVrBBLHK6QA",
        "outputId": "7cf3f175-ad41-48c6-f19f-1ec6c7d5e8b6"
      },
      "outputs": [
        {
          "output_type": "stream",
          "name": "stdout",
          "text": [
            "<class 'pandas.core.frame.DataFrame'>\n",
            "RangeIndex: 1338 entries, 0 to 1337\n",
            "Data columns (total 7 columns):\n",
            " #   Column    Non-Null Count  Dtype  \n",
            "---  ------    --------------  -----  \n",
            " 0   age       1338 non-null   int64  \n",
            " 1   sex       1338 non-null   object \n",
            " 2   bmi       1338 non-null   float64\n",
            " 3   children  1338 non-null   int64  \n",
            " 4   smoker    1338 non-null   object \n",
            " 5   region    1338 non-null   object \n",
            " 6   charges   1338 non-null   float64\n",
            "dtypes: float64(2), int64(2), object(3)\n",
            "memory usage: 73.3+ KB\n"
          ]
        }
      ],
      "source": [
        "import pandas as pd\n",
        "df = pd.read_csv('/content/drive/MyDrive/Colab images/Data/insurance.csv')\n",
        "df.info()"
      ]
    },
    {
      "cell_type": "code",
      "source": [
        "cat_cols = [col for col in df.columns if df[col].dtype == 'object']\n",
        "num_cols = [col for col in df.columns if df[col].dtype in ['int', 'float']]\n",
        "# df[num_cols]"
      ],
      "metadata": {
        "id": "kYsT7DLRe7lx"
      },
      "execution_count": 9,
      "outputs": []
    },
    {
      "cell_type": "code",
      "source": [
        "df.replace({'sex':{'male':1, 'female':0}}, inplace=True)\n",
        "df.replace({'smoker':{'yes':1, 'no':0}}, inplace=True)\n",
        "df.replace({'region':{'southeast':1, 'southwest':2, 'northwest':3, 'northeast':4}}, inplace=True)"
      ],
      "metadata": {
        "id": "0jMq_3-AgTtA"
      },
      "execution_count": 10,
      "outputs": []
    },
    {
      "cell_type": "code",
      "source": [
        "import seaborn as sns\n",
        "sns.heatmap(df.corr())"
      ],
      "metadata": {
        "colab": {
          "base_uri": "https://localhost:8080/",
          "height": 452
        },
        "id": "dUp9cxVagUg8",
        "outputId": "7ba02144-026e-4636-92bd-97767511ca11"
      },
      "execution_count": 12,
      "outputs": [
        {
          "output_type": "execute_result",
          "data": {
            "text/plain": [
              "<Axes: >"
            ]
          },
          "metadata": {},
          "execution_count": 12
        },
        {
          "output_type": "display_data",
          "data": {
            "text/plain": [
              "<Figure size 640x480 with 2 Axes>"
            ],
            "image/png": "[encoded data removed]"
          },
          "metadata": {}
        }
      ]
    },
    {
      "cell_type": "code",
      "source": [
        "X = df.drop(columns=['charges'])\n",
        "y = df['charges']\n",
        "\n",
        "from sklearn.model_selection import train_test_split\n",
        "X_train, X_test, y_train, y_test = train_test_split(X, y, test_size=0.2, random_state=897)"
      ],
      "metadata": {
        "id": "M9xLPM4vg28v"
      },
      "execution_count": 13,
      "outputs": []
    },
    {
      "cell_type": "markdown",
      "source": [
        "Linear Regression\n",
        "\n",
        "vs\n",
        "\n",
        "Random Forest Regressor"
      ],
      "metadata": {
        "id": "MgDZVIe_hBuz"
      }
    },
    {
      "cell_type": "code",
      "source": [
        "from sklearn.linear_model import LinearRegression\n",
        "lr = LinearRegression()\n",
        "lr.fit(X_train, y_train)\n",
        "lr_prediction = lr.predict(X_test)\n",
        "\n",
        "from sklearn.metrics import r2_score, mean_absolute_error\n",
        "print(f\"MAE: {mean_absolute_error(y_test, lr_prediction)}, \\nR2-Score: {r2_score(y_test, lr_prediction)}\")"
      ],
      "metadata": {
        "colab": {
          "base_uri": "https://localhost:8080/"
        },
        "id": "FCPt1wtahEnZ",
        "outputId": "1e958a67-37c0-4b74-8512-9dc994057b15"
      },
      "execution_count": 15,
      "outputs": [
        {
          "output_type": "stream",
          "name": "stdout",
          "text": [
            "MAE: 4563.273374278861, \n",
            "R2-Score: 0.7569282584086896\n"
          ]
        }
      ]
    },
    {
      "cell_type": "code",
      "source": [
        "from sklearn.ensemble import RandomForestRegressor\n",
        "rf = RandomForestRegressor()\n",
        "rf.fit(X_train, y_train)\n",
        "rf_prediction = rf.predict(X_test)\n",
        "\n",
        "print(f\"MAE: {mean_absolute_error(y_test, rf_prediction)}, \\nR2-Score: {r2_score(y_test, rf_prediction)}\")"
      ],
      "metadata": {
        "colab": {
          "base_uri": "https://localhost:8080/"
        },
        "id": "tHk0lrxChlS7",
        "outputId": "f951c06f-3689-4772-f2c4-b74019722641"
      },
      "execution_count": 16,
      "outputs": [
        {
          "output_type": "stream",
          "name": "stdout",
          "text": [
            "MAE: 2682.121152874061, \n",
            "R2-Score: 0.8530603976119396\n"
          ]
        }
      ]
    }
  ]
}