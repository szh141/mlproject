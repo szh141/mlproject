{
  "nbformat": 4,
  "nbformat_minor": 0,
  "metadata": {
    "colab": {
      "provenance": [],
      "authorship_tag": "ABX9TyPPLI6TBF95twDb1vV9e9fa",
      "include_colab_link": true
    },
    "kernelspec": {
      "name": "python3",
      "display_name": "Python 3"
    },
    "language_info": {
      "name": "python"
    }
  },
  "cells": [
    {
      "cell_type": "markdown",
      "metadata": {
        "id": "view-in-github",
        "colab_type": "text"
      },
      "source": [
        "<a href=\"https://colab.research.google.com/github/szh141/mlproject/blob/main/ML_metrics.ipynb\" target=\"_parent\"><img src=\"https://colab.research.google.com/assets/colab-badge.svg\" alt=\"Open In Colab\"/></a>"
      ]
    },
    {
      "cell_type": "markdown",
      "source": [
        "https://medium.com/@Coursesteach/supervised-learning-with-scikit-learn-part-19-understanding-regression-metrics-36bb60f2182a"
      ],
      "metadata": {
        "id": "jvi9HXthUILH"
      }
    },
    {
      "cell_type": "code",
      "source": [
        "from sklearn.metrics import mean_absolute_error, mean_squared_error, r2_score, mean_absolute_percentage_error, explained_variance_score\n",
        "# True and predicted values\n",
        "y_true = [0, 1, 1, 0]\n",
        "y_pred = [0, 1, 0, 0]\n",
        "# Mean Absolute Error (MAE)\n",
        "mae = mean_absolute_error(y_true, y_pred)\n",
        "print(f'Mean Absolute Error (MAE): {mae}')\n",
        "# Mean Squared Error (MSE)\n",
        "mse = mean_squared_error(y_true, y_pred)\n",
        "print(f'Mean Squared Error (MSE): {mse}')\n",
        "# Root Mean Squared Error (RMSE)\n",
        "rmse = mean_squared_error(y_true, y_pred, squared=False)\n",
        "print(f'Root Mean Squared Error (RMSE): {rmse}')\n",
        "# R-Squared\n",
        "r2 = r2_score(y_true, y_pred)\n",
        "print(f'R-Squared (R²): {r2}')\n",
        "# Mean Absolute Percentage Error (MAPE)\n",
        "mape = mean_absolute_percentage_error(y_true, y_pred)\n",
        "print(f'Mean Absolute Percentage Error (MAPE): {mape}')\n",
        "# Explained Variance Score\n",
        "explained_var = explained_variance_score(y_true, y_pred)\n",
        "print(f'Explained Variance Score: {explained_var}')"
      ],
      "metadata": {
        "colab": {
          "base_uri": "https://localhost:8080/"
        },
        "id": "uOLs3pjaRHJs",
        "outputId": "daa82457-5d59-4b3d-a03f-67787c17d760"
      },
      "execution_count": 15,
      "outputs": [
        {
          "output_type": "stream",
          "name": "stdout",
          "text": [
            "Mean Absolute Error (MAE): 0.25\n",
            "Mean Squared Error (MSE): 0.25\n",
            "Root Mean Squared Error (RMSE): 0.5\n",
            "R-Squared (R²): 0.0\n",
            "Mean Absolute Percentage Error (MAPE): 0.25\n",
            "Explained Variance Score: 0.25\n"
          ]
        }
      ]
    }
  ]
}